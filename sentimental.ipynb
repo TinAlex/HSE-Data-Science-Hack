{
 "cells": [
  {
   "cell_type": "code",
   "execution_count": 160,
   "id": "351bb3dc",
   "metadata": {
    "cellId": "aqum0shqyygol14sr9pxm"
   },
   "outputs": [],
   "source": [
    "import json\n",
    "import re\n",
    "from pprint import pprint\n",
    "\n",
    "import numpy as np\n",
    "import pandas as pd\n",
    "from scipy import stats\n",
    "from sklearn.base import BaseEstimator, TransformerMixin\n",
    "from sklearn.compose import ColumnTransformer\n",
    "from sklearn.feature_extraction.text import TfidfVectorizer\n",
    "from sklearn.pipeline import Pipeline\n",
    "import matplotlib.pyplot as plt\n",
    "import sklearn.model_selection\n",
    "from sklearn.metrics import accuracy_score, precision_score, recall_score, roc_auc_score\n",
    "from sklearn.model_selection import train_test_split\n",
    "from sklearn.feature_extraction.text import CountVectorizer\n",
    "from sklearn.naive_bayes import GaussianNB\n",
    "from sklearn.neural_network import MLPClassifier\n",
    "from sklearn.linear_model import LogisticRegression\n",
    "from sklearn.naive_bayes import MultinomialNB"
   ]
  },
  {
   "cell_type": "code",
   "execution_count": 161,
   "id": "3f7c0d68",
   "metadata": {
    "cellId": "vaf2c1gmz8kprtqtjllkl"
   },
   "outputs": [
    {
     "name": "stderr",
     "output_type": "stream",
     "text": [
      "[nltk_data] Downloading package stopwords to\n",
      "[nltk_data]     /home/jupyter/nltk_data...\n",
      "[nltk_data]   Package stopwords is already up-to-date!\n"
     ]
    }
   ],
   "source": [
    "import nltk\n",
    "nltk.download('stopwords')\n",
    "from nltk.corpus import stopwords"
   ]
  },
  {
   "cell_type": "code",
   "execution_count": 162,
   "id": "0a1e1bc7",
   "metadata": {
    "cellId": "7et8ek047lhtod73ulp3of"
   },
   "outputs": [],
   "source": [
    "import pymorphy2\n",
    "morph = pymorphy2.MorphAnalyzer()\n",
    "from nltk.stem import SnowballStemmer\n",
    "stemmer = SnowballStemmer(language = 'russian')"
   ]
  },
  {
   "cell_type": "code",
   "execution_count": 163,
   "id": "4fb05165",
   "metadata": {
    "cellId": "d5w6axoa88umq6p9bsh4r"
   },
   "outputs": [],
   "source": [
    "stop = stopwords.words('russian')\n",
    "# удаляем из списка стоп слов  'не'\n",
    "stop.remove('не')\n",
    "\n",
    "# функция удаления стоп слов \n",
    "def replace_stop(string):\n",
    "    mas = string.split()\n",
    "    for i in stop:\n",
    "        while i in mas :\n",
    "            mas.remove(i)\n",
    "    string  = ' '.join(mas)\n",
    "    return string\n",
    "\n",
    "# Функция приведения слова к нормальному виду(лемматизация  слова)\n",
    "def norm(s):\n",
    "    s = s.split()\n",
    "    s = map(lambda x: morph.parse(x)[0].normal_form,s)\n",
    "    return ' '.join(s)\n",
    "\n",
    "# Удаление стоп слов и знаков препинаия,нижний регистр, нормальный вид\n",
    "def clean(data, column):\n",
    "    patt = re.compile(\"[^\\w\\s]\")\n",
    "    data.loc[:, column] = data[column].str.replace(\n",
    "    patt, \" \", regex=True\n",
    "    ).map(str.lower).apply(replace_stop).apply(norm)\n",
    "    \n",
    "    return data\n",
    "#  векторнизация предложений\n",
    "def vector(data):\n",
    "    vectorizer = CountVectorizer()\n",
    "    data = vectorizer.fit_transform(data)\n",
    "    data = data.toarray()\n",
    "    \n",
    "    return data\n",
    "    \n",
    "    "
   ]
  },
  {
   "cell_type": "markdown",
   "id": "2dd6554f",
   "metadata": {
    "cellId": "zjq43ig3hki7ttmmiya1lc",
    "execution_id": "c52c0bf2-4041-4be7-9ff2-df1f3939b148"
   },
   "source": [
    "# Train"
   ]
  },
  {
   "cell_type": "markdown",
   "id": "f4f83eef",
   "metadata": {
    "cellId": "xp0cs5lgc6x7gyhy7uu7",
    "execution_id": "7ed912af-5d36-4ab0-a268-81cded369717"
   },
   "source": [
    "## Загрузка данных и анализ"
   ]
  },
  {
   "cell_type": "code",
   "execution_count": 164,
   "id": "3dff1db0",
   "metadata": {
    "cellId": "objn4gactrgghnlpn1chk"
   },
   "outputs": [
    {
     "name": "stdout",
     "output_type": "stream",
     "text": [
      "Размер: train.shape=(19361, 4)\n",
      "\n",
      "Типы столбцов: \n"
     ]
    },
    {
     "data": {
      "text/plain": [
       "sentence     object\n",
       "1category    object\n",
       "2category    object\n",
       "sentiment    object\n",
       "dtype: object"
      ]
     },
     "metadata": {},
     "output_type": "display_data"
    },
    {
     "name": "stdout",
     "output_type": "stream",
     "text": [
      "Фрагмент данных: \n"
     ]
    },
    {
     "data": {
      "text/html": [
       "<div>\n",
       "<style scoped>\n",
       "    .dataframe tbody tr th:only-of-type {\n",
       "        vertical-align: middle;\n",
       "    }\n",
       "\n",
       "    .dataframe tbody tr th {\n",
       "        vertical-align: top;\n",
       "    }\n",
       "\n",
       "    .dataframe thead th {\n",
       "        text-align: right;\n",
       "    }\n",
       "</style>\n",
       "<table border=\"1\" class=\"dataframe\">\n",
       "  <thead>\n",
       "    <tr style=\"text-align: right;\">\n",
       "      <th></th>\n",
       "      <th>sentence</th>\n",
       "      <th>1category</th>\n",
       "      <th>2category</th>\n",
       "      <th>sentiment</th>\n",
       "    </tr>\n",
       "  </thead>\n",
       "  <tbody>\n",
       "    <tr>\n",
       "      <th>4754</th>\n",
       "      <td>При этом всегда получал качественные услуги.</td>\n",
       "      <td>Communication</td>\n",
       "      <td>NaN</td>\n",
       "      <td>+</td>\n",
       "    </tr>\n",
       "    <tr>\n",
       "      <th>4417</th>\n",
       "      <td>Не вижу, за что хотя бы 2 поставить, сервис на 1!</td>\n",
       "      <td>?</td>\n",
       "      <td>NaN</td>\n",
       "      <td>−</td>\n",
       "    </tr>\n",
       "    <tr>\n",
       "      <th>3629</th>\n",
       "      <td>Вот так \"Мой любимый\" банк МКБ меня обманул.</td>\n",
       "      <td>?</td>\n",
       "      <td>NaN</td>\n",
       "      <td>−</td>\n",
       "    </tr>\n",
       "    <tr>\n",
       "      <th>11640</th>\n",
       "      <td>Отвратительное отношение к клиентам.</td>\n",
       "      <td>Communication</td>\n",
       "      <td>NaN</td>\n",
       "      <td>−</td>\n",
       "    </tr>\n",
       "    <tr>\n",
       "      <th>5571</th>\n",
       "      <td>Всегда в любое время дня и ночи помогут, ответ...</td>\n",
       "      <td>Communication</td>\n",
       "      <td>NaN</td>\n",
       "      <td>+</td>\n",
       "    </tr>\n",
       "  </tbody>\n",
       "</table>\n",
       "</div>"
      ],
      "text/plain": [
       "                                                sentence  ... sentiment\n",
       "4754        При этом всегда получал качественные услуги.  ...         +\n",
       "4417   Не вижу, за что хотя бы 2 поставить, сервис на 1!  ...         −\n",
       "3629        Вот так \"Мой любимый\" банк МКБ меня обманул.  ...         −\n",
       "11640               Отвратительное отношение к клиентам.  ...         −\n",
       "5571   Всегда в любое время дня и ночи помогут, ответ...  ...         +\n",
       "\n",
       "[5 rows x 4 columns]"
      ]
     },
     "metadata": {},
     "output_type": "display_data"
    }
   ],
   "source": [
    "train = pd.read_csv(\"/home/jupyter/mnt/s3/hse-data-vladimir/InternationaLiders/train.csv\", index_col = 0)\n",
    "print(f\"Размер: {train.shape=}\\n\")\n",
    "print(\"Типы столбцов: \")\n",
    "display(train.dtypes)\n",
    "print(\"Фрагмент данных: \")\n",
    "display(train.head())\n"
   ]
  },
  {
   "cell_type": "markdown",
   "id": "5610f8cc",
   "metadata": {
    "cellId": "3ytxe9w7a9q7hy8wbj7gzx",
    "execution_id": "b5bed59f-f387-4bca-beb3-025bf6d2eff6"
   },
   "source": [
    "## И тут хочется уточнить нашу задачу\n",
    "Перед нами стоит задача показать хорошее предсказание как на трейне, так и на тесте. НО, по своей природе эти датасеты отличаются. В трейне первая категория может быть не определена (что нормально, ведь отзыв может быть \"Круто, приятно узнать это сегодня.\"). А тест имеет только предложения, которые имеют ту или иную семинатику. Поэтому специльно для трейна мы будем обрабатывать первую категорию с вопросами, а длятеста мы обучим модель без категории с вопросами."
   ]
  },
  {
   "cell_type": "markdown",
   "id": "3b858bd8",
   "metadata": {
    "cellId": "f3gpq7oakmtu0beflsbaw",
    "execution_id": "7de5578f-a57c-4dad-8875-b45b2d8aeeb5"
   },
   "source": [
    "## Предобработка"
   ]
  },
  {
   "cell_type": "code",
   "execution_count": 165,
   "id": "5dc11037",
   "metadata": {
    "cellId": "r9wtos9v6syk6vngkw6lm"
   },
   "outputs": [
    {
     "data": {
      "text/html": [
       "<div>\n",
       "<style scoped>\n",
       "    .dataframe tbody tr th:only-of-type {\n",
       "        vertical-align: middle;\n",
       "    }\n",
       "\n",
       "    .dataframe tbody tr th {\n",
       "        vertical-align: top;\n",
       "    }\n",
       "\n",
       "    .dataframe thead th {\n",
       "        text-align: right;\n",
       "    }\n",
       "</style>\n",
       "<table border=\"1\" class=\"dataframe\">\n",
       "  <thead>\n",
       "    <tr style=\"text-align: right;\">\n",
       "      <th></th>\n",
       "      <th>sentence</th>\n",
       "      <th>1category</th>\n",
       "      <th>2category</th>\n",
       "      <th>sentiment</th>\n",
       "    </tr>\n",
       "  </thead>\n",
       "  <tbody>\n",
       "    <tr>\n",
       "      <th>4754</th>\n",
       "      <td>получать качественный услуга</td>\n",
       "      <td>Communication</td>\n",
       "      <td>NaN</td>\n",
       "      <td>+</td>\n",
       "    </tr>\n",
       "    <tr>\n",
       "      <th>4417</th>\n",
       "      <td>не видеть хотя 2 поставить сервис 1</td>\n",
       "      <td>?</td>\n",
       "      <td>NaN</td>\n",
       "      <td>−</td>\n",
       "    </tr>\n",
       "    <tr>\n",
       "      <th>3629</th>\n",
       "      <td>любимый банк мкб обмануть</td>\n",
       "      <td>?</td>\n",
       "      <td>NaN</td>\n",
       "      <td>−</td>\n",
       "    </tr>\n",
       "    <tr>\n",
       "      <th>11640</th>\n",
       "      <td>отвратительный отношение клиент</td>\n",
       "      <td>Communication</td>\n",
       "      <td>NaN</td>\n",
       "      <td>−</td>\n",
       "    </tr>\n",
       "    <tr>\n",
       "      <th>5571</th>\n",
       "      <td>любой время день ночь помочь ответить решить</td>\n",
       "      <td>Communication</td>\n",
       "      <td>NaN</td>\n",
       "      <td>+</td>\n",
       "    </tr>\n",
       "  </tbody>\n",
       "</table>\n",
       "</div>"
      ],
      "text/plain": [
       "                                           sentence  ... sentiment\n",
       "4754                   получать качественный услуга  ...         +\n",
       "4417            не видеть хотя 2 поставить сервис 1  ...         −\n",
       "3629                      любимый банк мкб обмануть  ...         −\n",
       "11640               отвратительный отношение клиент  ...         −\n",
       "5571   любой время день ночь помочь ответить решить  ...         +\n",
       "\n",
       "[5 rows x 4 columns]"
      ]
     },
     "execution_count": 165,
     "metadata": {},
     "output_type": "execute_result"
    }
   ],
   "source": [
    "# Удаление стоп слов и знаков препинаия,нижний регистр, нормальный вид\n",
    "train  = clean(train, 'sentence')\n",
    "train.head()"
   ]
  },
  {
   "cell_type": "markdown",
   "id": "ac1e6b94",
   "metadata": {
    "cellId": "q7foookho5f1wki8y6av62",
    "execution_id": "a75f6ef8-3b37-48b3-8f5d-d573b43bcbba"
   },
   "source": [
    " ### Векторизация и разделение на выборки"
   ]
  },
  {
   "cell_type": "code",
   "execution_count": 63,
   "id": "667f341a",
   "metadata": {
    "cellId": "zwm7mkl1b2n0rl0jt8l5ui"
   },
   "outputs": [],
   "source": [
    "# Векторизация \n",
    "X,y = train['sentence'], train['sentiment']\n",
    "X = vector(X)\n",
    "\n",
    "# Раздление на тетс и трейн\n",
    "X_train, X_test, y_train, y_test = train_test_split(\n",
    "        X, y,\n",
    "        train_size=0.8,\n",
    "        test_size=0.2,\n",
    "        random_state=42\n",
    "        )"
   ]
  },
  {
   "cell_type": "markdown",
   "id": "6f353659",
   "metadata": {
    "cellId": "k63w9orex2j059dynqgan1m",
    "execution_id": "2a035fd8-d57b-4a5a-9c87-f403e6b702f8"
   },
   "source": [
    "## Модели "
   ]
  },
  {
   "cell_type": "markdown",
   "id": "1f637efd",
   "metadata": {
    "cellId": "gkuiqpbmcgrcu08s0ttmqe",
    "execution_id": "15564197-9919-4b99-a0d0-977fb173c878"
   },
   "source": [
    "## GNB"
   ]
  },
  {
   "cell_type": "code",
   "execution_count": 64,
   "id": "bbfb7ba9",
   "metadata": {
    "cellId": "eydzg5v9n2e8tzqhpa0jnb"
   },
   "outputs": [
    {
     "name": "stdout",
     "output_type": "stream",
     "text": [
      "accuracy  0.6421378776142526\n",
      "roc  0.7657203869452193\n"
     ]
    }
   ],
   "source": [
    "gnb = GaussianNB()\n",
    "gnb.fit(X_train, y_train)\n",
    "prediction_test_targets = gnb.predict(X_test)\n",
    "print('accuracy ',accuracy_score(y_test, prediction_test_targets))\n",
    "print('roc ', roc_auc_score(y_test, gnb.predict_proba(X_test), multi_class = 'ovr'))"
   ]
  },
  {
   "cell_type": "markdown",
   "id": "b897b858",
   "metadata": {
    "cellId": "p429sh3ut6hlvuhn5hl69",
    "execution_id": "acc232df-d1f7-4e59-b9a6-fd9cdbe06007"
   },
   "source": [
    "## MLP"
   ]
  },
  {
   "cell_type": "code",
   "execution_count": null,
   "id": "643c8d47",
   "metadata": {
    "cellId": "j9j2dnw6p9qonuw7bfmhw"
   },
   "outputs": [],
   "source": [
    "from sklearn.neural_network import MLPClassifier\n",
    "\n",
    "mlp = MLPClassifier()\n",
    "mlp.fit(X_train, y_train)\n",
    "prediction_test_targets = mlp.predict(X_test)\n",
    "print('accuracy ',accuracy_score(y_test, prediction_test_targets))\n",
    "print('roc ', roc_auc_score(y_test, mlp.predict_proba(X_test), multi_class = 'ovr'))"
   ]
  },
  {
   "cell_type": "markdown",
   "id": "b3b7c676",
   "metadata": {
    "cellId": "o7gq7bh1t2whsg1v6dt4",
    "execution_id": "ee2cee3e-c918-45d9-8026-671d1eb55b31"
   },
   "source": [
    "## ЛОГ"
   ]
  },
  {
   "cell_type": "code",
   "execution_count": 65,
   "id": "2ab89684",
   "metadata": {
    "cellId": "5p9myxl1mep6ddmkhxpyqk"
   },
   "outputs": [
    {
     "name": "stdout",
     "output_type": "stream",
     "text": [
      "accuracy  0.8631551768654789\n",
      "roc  0.9366415784663644\n"
     ]
    },
    {
     "name": "stderr",
     "output_type": "stream",
     "text": [
      "/usr/local/lib/python3.8/dist-packages/sklearn/linear_model/_logistic.py:938: ConvergenceWarning: lbfgs failed to converge (status=1):\n",
      "STOP: TOTAL NO. of ITERATIONS REACHED LIMIT.\n",
      "\n",
      "Increase the number of iterations (max_iter) or scale the data as shown in:\n",
      "    https://scikit-learn.org/stable/modules/preprocessing.html\n",
      "Please also refer to the documentation for alternative solver options:\n",
      "    https://scikit-learn.org/stable/modules/linear_model.html#logistic-regression\n",
      "  n_iter_i = _check_optimize_result(\n"
     ]
    }
   ],
   "source": [
    "from sklearn.linear_model import LogisticRegression\n",
    "\n",
    "classifier = LogisticRegression()\n",
    "classifier.fit(X_train, y_train)\n",
    "prediction_test_targets = classifier.predict(X_test)\n",
    "print('accuracy ',accuracy_score(y_test, prediction_test_targets))\n",
    "print('roc ', roc_auc_score(y_test, classifier.predict_proba(X_test), multi_class = 'ovr'))"
   ]
  },
  {
   "cell_type": "markdown",
   "id": "13dea180",
   "metadata": {
    "cellId": "78ef2mjtldg7uqzfc40ab",
    "execution_id": "43ff2b8f-f017-41dd-8bee-d6faada4be45"
   },
   "source": [
    "## MNB"
   ]
  },
  {
   "cell_type": "code",
   "execution_count": 66,
   "id": "7322d086",
   "metadata": {
    "cellId": "xnglwn7z7v7jnw20e3t03"
   },
   "outputs": [
    {
     "name": "stdout",
     "output_type": "stream",
     "text": [
      "accuracy  0.8288148721920992\n",
      "roc  0.928355805644398\n"
     ]
    }
   ],
   "source": [
    "from sklearn.naive_bayes import MultinomialNB\n",
    "\n",
    "clf = MultinomialNB(alpha=1)\n",
    "clf.fit(X_train, y_train)\n",
    "prediction_test_targets = clf.predict(X_test)\n",
    "print('accuracy ',accuracy_score(y_test, prediction_test_targets))\n",
    "print('roc ', roc_auc_score(y_test, clf.predict_proba(X_test), multi_class = 'ovr'))"
   ]
  },
  {
   "cell_type": "markdown",
   "id": "18f05c4a",
   "metadata": {
    "cellId": "lrpyn1k1thqa72kaktlao",
    "execution_id": "b11ad08c-c7ad-4356-a63b-065edfab9640"
   },
   "source": [
    "Логистическая регерссия дала лучшие результаты"
   ]
  },
  {
   "cell_type": "markdown",
   "id": "101c275e",
   "metadata": {
    "cellId": "w1cb06db6fmek3u6byo6te",
    "execution_id": "f574e323-355e-48ce-a91d-a63cb1d56a31"
   },
   "source": [
    "# Output Train"
   ]
  },
  {
   "cell_type": "markdown",
   "id": "1059ab7f",
   "metadata": {
    "cellId": "t50sfj1o776wvf3rbrumx",
    "execution_id": "d9a8fb3d-fbe3-4dc7-afee-9a05bdcc3b03"
   },
   "source": [
    "###  Таблица веротятностей для test "
   ]
  },
  {
   "cell_type": "code",
   "execution_count": 39,
   "id": "e0107d04",
   "metadata": {
    "cellId": "5c29icqxnbrl75ccd3oxl"
   },
   "outputs": [
    {
     "data": {
      "text/html": [
       "<div>\n",
       "<style scoped>\n",
       "    .dataframe tbody tr th:only-of-type {\n",
       "        vertical-align: middle;\n",
       "    }\n",
       "\n",
       "    .dataframe tbody tr th {\n",
       "        vertical-align: top;\n",
       "    }\n",
       "\n",
       "    .dataframe thead th {\n",
       "        text-align: right;\n",
       "    }\n",
       "</style>\n",
       "<table border=\"1\" class=\"dataframe\">\n",
       "  <thead>\n",
       "    <tr style=\"text-align: right;\">\n",
       "      <th></th>\n",
       "      <th>+</th>\n",
       "      <th>?</th>\n",
       "      <th>−</th>\n",
       "    </tr>\n",
       "  </thead>\n",
       "  <tbody>\n",
       "    <tr>\n",
       "      <th>17308</th>\n",
       "      <td>0.001732</td>\n",
       "      <td>0.012234</td>\n",
       "      <td>0.986034</td>\n",
       "    </tr>\n",
       "    <tr>\n",
       "      <th>17426</th>\n",
       "      <td>0.029709</td>\n",
       "      <td>0.068030</td>\n",
       "      <td>0.902261</td>\n",
       "    </tr>\n",
       "    <tr>\n",
       "      <th>7006</th>\n",
       "      <td>0.911916</td>\n",
       "      <td>0.086876</td>\n",
       "      <td>0.001208</td>\n",
       "    </tr>\n",
       "    <tr>\n",
       "      <th>18169</th>\n",
       "      <td>0.002589</td>\n",
       "      <td>0.009109</td>\n",
       "      <td>0.988302</td>\n",
       "    </tr>\n",
       "    <tr>\n",
       "      <th>21247</th>\n",
       "      <td>0.400486</td>\n",
       "      <td>0.009275</td>\n",
       "      <td>0.590239</td>\n",
       "    </tr>\n",
       "    <tr>\n",
       "      <th>...</th>\n",
       "      <td>...</td>\n",
       "      <td>...</td>\n",
       "      <td>...</td>\n",
       "    </tr>\n",
       "    <tr>\n",
       "      <th>11604</th>\n",
       "      <td>0.078505</td>\n",
       "      <td>0.027463</td>\n",
       "      <td>0.894032</td>\n",
       "    </tr>\n",
       "    <tr>\n",
       "      <th>4929</th>\n",
       "      <td>0.982485</td>\n",
       "      <td>0.017066</td>\n",
       "      <td>0.000449</td>\n",
       "    </tr>\n",
       "    <tr>\n",
       "      <th>9798</th>\n",
       "      <td>0.058597</td>\n",
       "      <td>0.034099</td>\n",
       "      <td>0.907304</td>\n",
       "    </tr>\n",
       "    <tr>\n",
       "      <th>21239</th>\n",
       "      <td>0.002646</td>\n",
       "      <td>0.010237</td>\n",
       "      <td>0.987116</td>\n",
       "    </tr>\n",
       "    <tr>\n",
       "      <th>12848</th>\n",
       "      <td>0.066564</td>\n",
       "      <td>0.844069</td>\n",
       "      <td>0.089367</td>\n",
       "    </tr>\n",
       "  </tbody>\n",
       "</table>\n",
       "<p>3873 rows × 3 columns</p>\n",
       "</div>"
      ],
      "text/plain": [
       "              +         ?         −\n",
       "17308  0.001732  0.012234  0.986034\n",
       "17426  0.029709  0.068030  0.902261\n",
       "7006   0.911916  0.086876  0.001208\n",
       "18169  0.002589  0.009109  0.988302\n",
       "21247  0.400486  0.009275  0.590239\n",
       "...         ...       ...       ...\n",
       "11604  0.078505  0.027463  0.894032\n",
       "4929   0.982485  0.017066  0.000449\n",
       "9798   0.058597  0.034099  0.907304\n",
       "21239  0.002646  0.010237  0.987116\n",
       "12848  0.066564  0.844069  0.089367\n",
       "\n",
       "[3873 rows x 3 columns]"
      ]
     },
     "execution_count": 39,
     "metadata": {},
     "output_type": "execute_result"
    }
   ],
   "source": [
    "pd.DataFrame(data = classifier.predict_proba(X_test), index = y_test.index, columns = classifier.classes_ )"
   ]
  },
  {
   "cell_type": "code",
   "execution_count": 45,
   "id": "fe94a652",
   "metadata": {
    "cellId": "9aioxaxa3tjacblsnio5c4"
   },
   "outputs": [
    {
     "name": "stdout",
     "output_type": "stream",
     "text": [
      "accuracy  0.8424993545055512\n",
      "roc  0.9365729609640843\n"
     ]
    }
   ],
   "source": [
    "print('accuracy ',accuracy_score(y_test, prediction_test_targets))\n",
    "print('roc ', roc_auc_score(y_test, classifier.predict_proba(X_test), multi_class = 'ovr'))"
   ]
  },
  {
   "cell_type": "markdown",
   "id": "07d974f8",
   "metadata": {
    "cellId": "3e7k3ltx96ty8saxt9m3tn",
    "execution_id": "2c8823d5-7f45-41c7-9371-adad7f314354"
   },
   "source": [
    "### Таблица веротяностей для всего файла Train"
   ]
  },
  {
   "cell_type": "code",
   "execution_count": 41,
   "id": "90303f20",
   "metadata": {
    "cellId": "5fe10e1y43hc5n2o8kefb"
   },
   "outputs": [
    {
     "data": {
      "text/html": [
       "<div>\n",
       "<style scoped>\n",
       "    .dataframe tbody tr th:only-of-type {\n",
       "        vertical-align: middle;\n",
       "    }\n",
       "\n",
       "    .dataframe tbody tr th {\n",
       "        vertical-align: top;\n",
       "    }\n",
       "\n",
       "    .dataframe thead th {\n",
       "        text-align: right;\n",
       "    }\n",
       "</style>\n",
       "<table border=\"1\" class=\"dataframe\">\n",
       "  <thead>\n",
       "    <tr style=\"text-align: right;\">\n",
       "      <th></th>\n",
       "      <th>+</th>\n",
       "      <th>?</th>\n",
       "      <th>−</th>\n",
       "    </tr>\n",
       "    <tr>\n",
       "      <th>sentiment</th>\n",
       "      <th></th>\n",
       "      <th></th>\n",
       "      <th></th>\n",
       "    </tr>\n",
       "  </thead>\n",
       "  <tbody>\n",
       "    <tr>\n",
       "      <th>+</th>\n",
       "      <td>0.483110</td>\n",
       "      <td>0.317137</td>\n",
       "      <td>0.199753</td>\n",
       "    </tr>\n",
       "    <tr>\n",
       "      <th>−</th>\n",
       "      <td>0.008340</td>\n",
       "      <td>0.018662</td>\n",
       "      <td>0.972998</td>\n",
       "    </tr>\n",
       "    <tr>\n",
       "      <th>−</th>\n",
       "      <td>0.074755</td>\n",
       "      <td>0.060398</td>\n",
       "      <td>0.864847</td>\n",
       "    </tr>\n",
       "    <tr>\n",
       "      <th>−</th>\n",
       "      <td>0.010254</td>\n",
       "      <td>0.007641</td>\n",
       "      <td>0.982105</td>\n",
       "    </tr>\n",
       "    <tr>\n",
       "      <th>+</th>\n",
       "      <td>0.566099</td>\n",
       "      <td>0.356588</td>\n",
       "      <td>0.077313</td>\n",
       "    </tr>\n",
       "    <tr>\n",
       "      <th>...</th>\n",
       "      <td>...</td>\n",
       "      <td>...</td>\n",
       "      <td>...</td>\n",
       "    </tr>\n",
       "    <tr>\n",
       "      <th>−</th>\n",
       "      <td>0.004878</td>\n",
       "      <td>0.055871</td>\n",
       "      <td>0.939251</td>\n",
       "    </tr>\n",
       "    <tr>\n",
       "      <th>−</th>\n",
       "      <td>0.372061</td>\n",
       "      <td>0.040305</td>\n",
       "      <td>0.587635</td>\n",
       "    </tr>\n",
       "    <tr>\n",
       "      <th>+</th>\n",
       "      <td>0.619880</td>\n",
       "      <td>0.328592</td>\n",
       "      <td>0.051528</td>\n",
       "    </tr>\n",
       "    <tr>\n",
       "      <th>+</th>\n",
       "      <td>0.857537</td>\n",
       "      <td>0.012580</td>\n",
       "      <td>0.129884</td>\n",
       "    </tr>\n",
       "    <tr>\n",
       "      <th>−</th>\n",
       "      <td>0.023729</td>\n",
       "      <td>0.076790</td>\n",
       "      <td>0.899481</td>\n",
       "    </tr>\n",
       "  </tbody>\n",
       "</table>\n",
       "<p>19361 rows × 3 columns</p>\n",
       "</div>"
      ],
      "text/plain": [
       "                  +         ?         −\n",
       "sentiment                              \n",
       "+          0.483110  0.317137  0.199753\n",
       "−          0.008340  0.018662  0.972998\n",
       "−          0.074755  0.060398  0.864847\n",
       "−          0.010254  0.007641  0.982105\n",
       "+          0.566099  0.356588  0.077313\n",
       "...             ...       ...       ...\n",
       "−          0.004878  0.055871  0.939251\n",
       "−          0.372061  0.040305  0.587635\n",
       "+          0.619880  0.328592  0.051528\n",
       "+          0.857537  0.012580  0.129884\n",
       "−          0.023729  0.076790  0.899481\n",
       "\n",
       "[19361 rows x 3 columns]"
      ]
     },
     "execution_count": 41,
     "metadata": {},
     "output_type": "execute_result"
    }
   ],
   "source": [
    "input_train = pd.DataFrame(data = classifier.predict_proba(X), index = y, columns = classifier.classes_ )\n",
    "input_train "
   ]
  },
  {
   "cell_type": "code",
   "execution_count": 44,
   "id": "c184c02f",
   "metadata": {
    "cellId": "tsxdkmwu1eokmn77c25gr"
   },
   "outputs": [
    {
     "name": "stdout",
     "output_type": "stream",
     "text": [
      "accuracy  0.9188058468054336\n",
      "roc  0.9779945597767258\n"
     ]
    }
   ],
   "source": [
    "print('accuracy ',accuracy_score(y, classifier.predict(X)))\n",
    "print('roc ', roc_auc_score(y, classifier.predict_proba(X), multi_class = 'ovr'))"
   ]
  },
  {
   "cell_type": "markdown",
   "id": "d3100164",
   "metadata": {
    "cellId": "qmk91qq24w500e1b07wh3",
    "execution_id": "5a1f9cd5-2097-45fe-a251-ee1156f5f8e4"
   },
   "source": [
    "# Output Test"
   ]
  },
  {
   "cell_type": "markdown",
   "id": "5877f5ea",
   "metadata": {
    "cellId": "lcwe37iau7g8ij8duu5iok",
    "execution_id": "bd26f395-4125-42fc-9120-2b043f3f3a60"
   },
   "source": [
    "### Загрузка"
   ]
  },
  {
   "cell_type": "code",
   "execution_count": 171,
   "id": "b21340fe",
   "metadata": {
    "cellId": "g0me1y3hhnq03v7enlo2z5"
   },
   "outputs": [
    {
     "name": "stdout",
     "output_type": "stream",
     "text": [
      "Размер: test.shape=(949, 1)\n",
      "\n",
      "Типы столбцов: \n"
     ]
    },
    {
     "data": {
      "text/plain": [
       "0    object\n",
       "dtype: object"
      ]
     },
     "metadata": {},
     "output_type": "display_data"
    },
    {
     "name": "stdout",
     "output_type": "stream",
     "text": [
      "Фрагмент данных: \n"
     ]
    },
    {
     "data": {
      "text/html": [
       "<div>\n",
       "<style scoped>\n",
       "    .dataframe tbody tr th:only-of-type {\n",
       "        vertical-align: middle;\n",
       "    }\n",
       "\n",
       "    .dataframe tbody tr th {\n",
       "        vertical-align: top;\n",
       "    }\n",
       "\n",
       "    .dataframe thead th {\n",
       "        text-align: right;\n",
       "    }\n",
       "</style>\n",
       "<table border=\"1\" class=\"dataframe\">\n",
       "  <thead>\n",
       "    <tr style=\"text-align: right;\">\n",
       "      <th></th>\n",
       "      <th>0</th>\n",
       "    </tr>\n",
       "  </thead>\n",
       "  <tbody>\n",
       "    <tr>\n",
       "      <th>0</th>\n",
       "      <td>15.03.2022 обратился на горячую линию для закр...</td>\n",
       "    </tr>\n",
       "    <tr>\n",
       "      <th>1</th>\n",
       "      <td>Уже который год в ТКБ не решается \"глобальная ...</td>\n",
       "    </tr>\n",
       "    <tr>\n",
       "      <th>2</th>\n",
       "      <td>Добрый день</td>\n",
       "    </tr>\n",
       "    <tr>\n",
       "      <th>3</th>\n",
       "      <td>Добрый день Сегодня, зайдя в свой личный кабин...</td>\n",
       "    </tr>\n",
       "    <tr>\n",
       "      <th>4</th>\n",
       "      <td>Обслуживаюсь в Тинькофф пару лет, возникла жес...</td>\n",
       "    </tr>\n",
       "  </tbody>\n",
       "</table>\n",
       "</div>"
      ],
      "text/plain": [
       "                                                   0\n",
       "0  15.03.2022 обратился на горячую линию для закр...\n",
       "1  Уже который год в ТКБ не решается \"глобальная ...\n",
       "2                                        Добрый день\n",
       "3  Добрый день Сегодня, зайдя в свой личный кабин...\n",
       "4  Обслуживаюсь в Тинькофф пару лет, возникла жес..."
      ]
     },
     "metadata": {},
     "output_type": "display_data"
    }
   ],
   "source": [
    "test = pd.read_csv(\"/home/jupyter/mnt/s3/hse-data-vladimir/InternationaLiders/1sentencenewtest.csv\", index_col = 0)\n",
    "print(f\"Размер: {test.shape=}\\n\")\n",
    "print(\"Типы столбцов: \")\n",
    "display(test.dtypes)\n",
    "print(\"Фрагмент данных: \")\n",
    "display(test.head())"
   ]
  },
  {
   "cell_type": "markdown",
   "id": "032be1b0",
   "metadata": {
    "cellId": "bkps8unv2uv3qcfa1bxy5v",
    "execution_id": "812716a3-1240-4f5d-87d3-46a64f1f0900"
   },
   "source": [
    "Обработка"
   ]
  },
  {
   "cell_type": "code",
   "execution_count": 172,
   "id": "380085b5",
   "metadata": {
    "cellId": "s6o14c7hfh26jzjfhvpi"
   },
   "outputs": [
    {
     "data": {
      "text/html": [
       "<div>\n",
       "<style scoped>\n",
       "    .dataframe tbody tr th:only-of-type {\n",
       "        vertical-align: middle;\n",
       "    }\n",
       "\n",
       "    .dataframe tbody tr th {\n",
       "        vertical-align: top;\n",
       "    }\n",
       "\n",
       "    .dataframe thead th {\n",
       "        text-align: right;\n",
       "    }\n",
       "</style>\n",
       "<table border=\"1\" class=\"dataframe\">\n",
       "  <thead>\n",
       "    <tr style=\"text-align: right;\">\n",
       "      <th></th>\n",
       "      <th>0</th>\n",
       "    </tr>\n",
       "  </thead>\n",
       "  <tbody>\n",
       "    <tr>\n",
       "      <th>0</th>\n",
       "      <td>15 03 2022 обратиться горячий линия закрытие с...</td>\n",
       "    </tr>\n",
       "    <tr>\n",
       "      <th>1</th>\n",
       "      <td>который год ткб не решаться глобальный проблем...</td>\n",
       "    </tr>\n",
       "    <tr>\n",
       "      <th>2</th>\n",
       "      <td>добрый день</td>\n",
       "    </tr>\n",
       "    <tr>\n",
       "      <th>3</th>\n",
       "      <td>добрый день сегодня зайти свой личный кабинет ...</td>\n",
       "    </tr>\n",
       "    <tr>\n",
       "      <th>4</th>\n",
       "      <td>обслуживаться тинькофф пара год возникнуть жес...</td>\n",
       "    </tr>\n",
       "  </tbody>\n",
       "</table>\n",
       "</div>"
      ],
      "text/plain": [
       "                                                   0\n",
       "0  15 03 2022 обратиться горячий линия закрытие с...\n",
       "1  который год ткб не решаться глобальный проблем...\n",
       "2                                        добрый день\n",
       "3  добрый день сегодня зайти свой личный кабинет ...\n",
       "4  обслуживаться тинькофф пара год возникнуть жес..."
      ]
     },
     "execution_count": 172,
     "metadata": {},
     "output_type": "execute_result"
    }
   ],
   "source": [
    "test = clean(test, '0')\n",
    "test.head()"
   ]
  },
  {
   "cell_type": "markdown",
   "id": "b5a23faa",
   "metadata": {
    "cellId": "mtvr7fjpsjd8b4fw0d8e7e",
    "execution_id": "18e59ba7-55a6-4332-9a63-e0d30d6f0761"
   },
   "source": [
    "Векторизация"
   ]
  },
  {
   "cell_type": "code",
   "execution_count": 173,
   "id": "756ac138",
   "metadata": {
    "cellId": "ib05qv7f0yl2n4o1w603"
   },
   "outputs": [],
   "source": [
    "X_train, y_train = train['sentence'], train[\"sentiment\"]\n",
    "X_test = test['0']\n",
    "\n",
    "vectorizer = CountVectorizer()\n",
    "vec = vectorizer.fit(pd.concat([X_train,X_test]))\n",
    "X_train = vectorizer.transform(X_train).toarray()\n",
    "X_test = vectorizer.transform(X_test).toarray()"
   ]
  },
  {
   "cell_type": "markdown",
   "id": "a527ad62",
   "metadata": {
    "cellId": "e21ihl60o16o4l1yvtop3d",
    "execution_id": "7e17b184-1e80-4b65-8b22-fd26f58efbed"
   },
   "source": [
    "Модель"
   ]
  },
  {
   "cell_type": "code",
   "execution_count": 174,
   "id": "b6a89a6d",
   "metadata": {
    "cellId": "my2thifxmnoj8eoux61ke"
   },
   "outputs": [
    {
     "name": "stderr",
     "output_type": "stream",
     "text": [
      "/usr/local/lib/python3.8/dist-packages/sklearn/linear_model/_logistic.py:938: ConvergenceWarning: lbfgs failed to converge (status=1):\n",
      "STOP: TOTAL NO. of ITERATIONS REACHED LIMIT.\n",
      "\n",
      "Increase the number of iterations (max_iter) or scale the data as shown in:\n",
      "    https://scikit-learn.org/stable/modules/preprocessing.html\n",
      "Please also refer to the documentation for alternative solver options:\n",
      "    https://scikit-learn.org/stable/modules/linear_model.html#logistic-regression\n",
      "  n_iter_i = _check_optimize_result(\n"
     ]
    }
   ],
   "source": [
    "classifier = LogisticRegression()\n",
    "classifier.fit(X_train, y_train)\n",
    "proba = classifier.predict_proba(X_test)"
   ]
  },
  {
   "cell_type": "code",
   "execution_count": 175,
   "id": "3727d476",
   "metadata": {
    "cellId": "1bzc5uiy0f7aemgettmu5"
   },
   "outputs": [
    {
     "data": {
      "text/plain": [
       "array(['+', '?', '−'], dtype=object)"
      ]
     },
     "execution_count": 175,
     "metadata": {},
     "output_type": "execute_result"
    }
   ],
   "source": [
    "classifier.classes_"
   ]
  },
  {
   "cell_type": "code",
   "execution_count": 178,
   "id": "d05477f6",
   "metadata": {
    "cellId": "jmmpvf50f4q4p679ruv0i"
   },
   "outputs": [
    {
     "data": {
      "text/html": [
       "<div>\n",
       "<style scoped>\n",
       "    .dataframe tbody tr th:only-of-type {\n",
       "        vertical-align: middle;\n",
       "    }\n",
       "\n",
       "    .dataframe tbody tr th {\n",
       "        vertical-align: top;\n",
       "    }\n",
       "\n",
       "    .dataframe thead th {\n",
       "        text-align: right;\n",
       "    }\n",
       "</style>\n",
       "<table border=\"1\" class=\"dataframe\">\n",
       "  <thead>\n",
       "    <tr style=\"text-align: right;\">\n",
       "      <th></th>\n",
       "      <th>0</th>\n",
       "      <th>+</th>\n",
       "      <th>−</th>\n",
       "      <th>?</th>\n",
       "    </tr>\n",
       "  </thead>\n",
       "  <tbody>\n",
       "    <tr>\n",
       "      <th>0</th>\n",
       "      <td>15 03 2022 обратиться горячий линия закрытие с...</td>\n",
       "      <td>0.103934</td>\n",
       "      <td>0.711518</td>\n",
       "      <td>0.184548</td>\n",
       "    </tr>\n",
       "    <tr>\n",
       "      <th>1</th>\n",
       "      <td>который год ткб не решаться глобальный проблем...</td>\n",
       "      <td>0.847510</td>\n",
       "      <td>0.082847</td>\n",
       "      <td>0.069643</td>\n",
       "    </tr>\n",
       "    <tr>\n",
       "      <th>2</th>\n",
       "      <td>добрый день</td>\n",
       "      <td>0.409348</td>\n",
       "      <td>0.153404</td>\n",
       "      <td>0.437249</td>\n",
       "    </tr>\n",
       "    <tr>\n",
       "      <th>3</th>\n",
       "      <td>добрый день сегодня зайти свой личный кабинет ...</td>\n",
       "      <td>0.047824</td>\n",
       "      <td>0.415146</td>\n",
       "      <td>0.537030</td>\n",
       "    </tr>\n",
       "    <tr>\n",
       "      <th>4</th>\n",
       "      <td>обслуживаться тинькофф пара год возникнуть жес...</td>\n",
       "      <td>0.956751</td>\n",
       "      <td>0.000497</td>\n",
       "      <td>0.042751</td>\n",
       "    </tr>\n",
       "    <tr>\n",
       "      <th>...</th>\n",
       "      <td>...</td>\n",
       "      <td>...</td>\n",
       "      <td>...</td>\n",
       "      <td>...</td>\n",
       "    </tr>\n",
       "    <tr>\n",
       "      <th>944</th>\n",
       "      <td>отвратительный сервис отношение клиент являтьс...</td>\n",
       "      <td>0.041220</td>\n",
       "      <td>0.928667</td>\n",
       "      <td>0.030113</td>\n",
       "    </tr>\n",
       "    <tr>\n",
       "      <th>945</th>\n",
       "      <td>28 04 2022 обратиться банк возможность перевод...</td>\n",
       "      <td>0.475327</td>\n",
       "      <td>0.364548</td>\n",
       "      <td>0.160126</td>\n",
       "    </tr>\n",
       "    <tr>\n",
       "      <th>946</th>\n",
       "      <td>начало 2021 год акция выплата 8 кешбек оплата ...</td>\n",
       "      <td>0.179557</td>\n",
       "      <td>0.608863</td>\n",
       "      <td>0.211580</td>\n",
       "    </tr>\n",
       "    <tr>\n",
       "      <th>947</th>\n",
       "      <td>бездействие банк некомпетентность сотрудник</td>\n",
       "      <td>0.006099</td>\n",
       "      <td>0.985956</td>\n",
       "      <td>0.007945</td>\n",
       "    </tr>\n",
       "    <tr>\n",
       "      <th>948</th>\n",
       "      <td>потратить 5 час произвести оплата обучение лайна</td>\n",
       "      <td>0.053005</td>\n",
       "      <td>0.933981</td>\n",
       "      <td>0.013015</td>\n",
       "    </tr>\n",
       "  </tbody>\n",
       "</table>\n",
       "<p>949 rows × 4 columns</p>\n",
       "</div>"
      ],
      "text/plain": [
       "                                                     0  ...         ?\n",
       "0    15 03 2022 обратиться горячий линия закрытие с...  ...  0.184548\n",
       "1    который год ткб не решаться глобальный проблем...  ...  0.069643\n",
       "2                                          добрый день  ...  0.437249\n",
       "3    добрый день сегодня зайти свой личный кабинет ...  ...  0.537030\n",
       "4    обслуживаться тинькофф пара год возникнуть жес...  ...  0.042751\n",
       "..                                                 ...  ...       ...\n",
       "944  отвратительный сервис отношение клиент являтьс...  ...  0.030113\n",
       "945  28 04 2022 обратиться банк возможность перевод...  ...  0.160126\n",
       "946  начало 2021 год акция выплата 8 кешбек оплата ...  ...  0.211580\n",
       "947        бездействие банк некомпетентность сотрудник  ...  0.007945\n",
       "948   потратить 5 час произвести оплата обучение лайна  ...  0.013015\n",
       "\n",
       "[949 rows x 4 columns]"
      ]
     },
     "execution_count": 178,
     "metadata": {},
     "output_type": "execute_result"
    }
   ],
   "source": [
    "input_test = pd.DataFrame(data = proba, index = test.index, columns = classifier.classes_ )\n",
    "input_test = pd.merge(input_test, test, left_index = True, right_index = True, how = 'inner')\n",
    "input_test = input_test[['0', '+',  '−', '?' ]]\n",
    "input_test"
   ]
  },
  {
   "cell_type": "code",
   "execution_count": null,
   "id": "aae33e4b",
   "metadata": {
    "cellId": "02ld7j64lubm3zef7d8iowx"
   },
   "outputs": [],
   "source": [
    "input_test.to_csv(\"demo.csv\", index=True)"
   ]
  }
 ],
 "metadata": {
  "language_info": {
   "codemirror_mode": {
    "name": "ipython",
    "version": 3
   },
   "file_extension": ".py",
   "mimetype": "text/x-python",
   "name": "python",
   "nbconvert_exporter": "python",
   "pygments_lexer": "ipython3",
   "version": "3.7.7"
  },
  "notebookId": "7f3aebfc-39ed-4646-bbdf-2d483d1c49a8",
  "notebookPath": "final.ipynb"
 },
 "nbformat": 4,
 "nbformat_minor": 5
}
